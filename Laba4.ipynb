{
 "cells": [
  {
   "attachments": {},
   "cell_type": "markdown",
   "metadata": {},
   "source": [
    "# Многопроцесcорность (multiprocessing) и многонитевость (multithreading)\n",
    "\n",
    "#### Определение 2. Процесс - объектное представление программы в компьютере, который управлеется ОС, как единицей ресурса.\n",
    "\n",
    "#### Процессу выделяется память,  для кода и его данных.    \n",
    "\n",
    "\n",
    "\n",
    "Процесс включает по крайней мере одну нить, которая имеет свои собственные регистры и стек. thread имеет доступ к данным процесса.\n",
    "\n",
    "#### Thread наименьшая последовательность инструкций, которая может управляться ОС - единица вычислений. ОС определяет когда и как долго Thread  может выполняться.\n",
    "\n",
    "# Многонитевость \n",
    "Процесс может породить другую Thread - это будет многонитвость, с каждой Thread, имеющей собственные регистры и стек, то есть место в памяти и что наиболее важно с  доступом к пространству памяти процесса.\n",
    "Нитям доступны данные процесса. При создании нитей уровня пользователя, а не ядра, пользователь имеет доступ к данным.           \n",
    "\n",
    "\n",
    "\n",
    "#### Общие положения:   две нити не могут выполняться одновременно на одном CPU \n",
    "####                    Главная (main) нить - это нить выполнения программы (ячейки).\n",
    "####                    Каждая программа Python имеет хотя бы одну нить выполнения, называемую main. Как процессы, так и нити  создаются и управляются операционной системой."
   ]
  },
  {
   "cell_type": "markdown",
   "metadata": {},
   "source": [
    "# Три способа порождения нитей (spawn threads)\n",
    "\n",
    "## 1. fork() - системный вызов в Unix-подобных операционных системах\n",
    "\n",
    "fork() — создающий новый процесс (потомок), который является практически полной копией процесса-родителя, выполняющего этот вызов.\n",
    "\n",
    "После вызова fork() алгоритм обычно разветвляется (в случае успешного выполнения функции fork() она возвращает PID процесса-потомка родительскому процессу и нуль — процессу-потомку. Если порождение процесса-потомка закончилось неудачей, функция fork() возвращает значение −1).\n",
    "\n",
    "После fork() процесс-потомок чаще всего выполняет системный вызов exec(), загружающий в пространство процесса новую программу (именно так, и только так, в Unix-системе выполняется запуск программы в отдельном процессе). Так, первый (нулевой) процесс Unix (ядро системы) создаёт свою копию, чтобы запустить init (процесс с PID = 1), который в свою очередь создаёт дочерние процессы для запуска инициализации системы и терминалов. \n",
    " "
   ]
  },
  {
   "cell_type": "code",
   "execution_count": null,
   "metadata": {},
   "outputs": [],
   "source": [
    "import os\n",
    "import sys\n",
    "\n",
    "pid = os.fork() # Windows не поддерживает\n",
    "#pid = os.spawnve()\n",
    "if pid > 0:\n",
    "  os.execl()\n",
    "    \n",
    "  print(\"Process ID:\", os.getpid())\n",
    "  print(\"Child's process ID:\", pid)\n",
    "\n",
    "else:  \n",
    "  print(\"Process ID:\", os.getpid())\n",
    "  print(\"Child's process ID:\", pid)\n",
    "  os.execl(sys.executable, sys.executable, *sys.argv) "
   ]
  },
  {
   "cell_type": "markdown",
   "metadata": {},
   "source": [
    "## Объектно-ориентированный подход \n",
    "##  2.1  Наследование от класса Thread и создание объекта Thread конструктором"
   ]
  },
  {
   "cell_type": "code",
   "execution_count": 1,
   "metadata": {},
   "outputs": [
    {
     "name": "stdout",
     "output_type": "stream",
     "text": [
      "olleH\n",
      "dlrow\n",
      "Threading name: Thread-5, \n",
      "run time: 0.0001800060272216797\n",
      "-----------------\n",
      "namyeH\n",
      "naY\n",
      "Threading name: Thread-6, \n",
      "run time: 7.867813110351562e-06\n",
      "-----------------\n",
      "erawoH\n",
      "ure\n",
      "Threading name: Thread-7, \n",
      "run time: 7.152557373046875e-06\n",
      "-----------------\n",
      "paH\n",
      "tibypdfd\n",
      "yadh\n",
      "Threading name: Thread-8, \n",
      "run time: 7.867813110351562e-06\n",
      "-----------------\n",
      "oL\n",
      "lbl\n",
      "Threading name: Thread-9, \n",
      "run time: 6.9141387939453125e-06\n",
      "-----------------\n"
     ]
    }
   ],
   "source": [
    "import threading\n",
    "from time import time\n",
    "# Subclass the threading.Thread object and overwrite it's run() method with your code\n",
    "class CreateTheard(threading.Thread):\n",
    "    def __init__(self, string):\n",
    "        super(CreateTheard, self).__init__()\n",
    "        self.string = string\n",
    "    def run(self):\n",
    "        startTime = time()\n",
    "        letters = self.string.split()\n",
    "        for i in range(len(letters)):\n",
    "                print(letters[i][len(letters[i]): :-1])\n",
    "            \n",
    "        print(f'Threading name: {self.name}, \\nrun time: {time() - startTime}')\n",
    "        print(\"-----------------\")\n",
    "        \n",
    "strings = [\"Hello world\", \"Heyman Yan\", \"Howare eru\", \"Hap dfdpybit hday\", \"Lo lbl\"]\n",
    "# Create object\n",
    "\n",
    "threads = [CreateTheard(i) for i in strings]\n",
    "    \n",
    "# Start each of the processes\n",
    "for t in threads: t.start()\n",
    "    \n",
    "# Join the processes\n",
    "for t in threads: t.join()"
   ]
  },
  {
   "cell_type": "markdown",
   "metadata": {},
   "source": [
    "## Объектно-оиентированный подход \n",
    "##  2.2. Cоздание объекта Thread конструктором с параметром target =  объект "
   ]
  },
  {
   "cell_type": "code",
   "execution_count": 1,
   "metadata": {},
   "outputs": [
    {
     "name": "stdout",
     "output_type": "stream",
     "text": [
      "olleh\n",
      "dlrow\n",
      "Run time: 0.0010938644409179688, thread name: Thread-5\n"
     ]
    }
   ],
   "source": [
    "import threading\n",
    "from time import time\n",
    "# target =  foo - целевая функция \n",
    "def foo(string):\n",
    "    startTime = time()\n",
    "    letters = string.split()\n",
    "    for i in range(len(letters)):\n",
    "            print(letters[i][len(letters[i]): :-1])\n",
    "            \n",
    "    print(f'Run time: {time() - startTime}, thread name: {threading.current_thread().name}')\n",
    "\n",
    "# Run the thread\n",
    "t1 = threading.Thread(target=foo, args=(\"hello world\",))\n",
    "t1.start()\n",
    "t1.join()"
   ]
  },
  {
   "cell_type": "markdown",
   "metadata": {},
   "source": [
    "многопроцессорность"
   ]
  },
  {
   "cell_type": "code",
   "execution_count": 29,
   "metadata": {},
   "outputs": [],
   "source": [
    "import multiprocessing\n",
    "from time import time\n",
    "\n",
    "# Subclass the threading.Thread object and overwrite it's run() method with your code\n",
    "class CreateProcess(multiprocessing.Process):\n",
    "    def __init__(self, string):\n",
    "        super(CreateProcess, self).__init__()\n",
    "        self.string = string\n",
    "    def run(self):\n",
    "        startTime = time()\n",
    "        letters = self.string.split()\n",
    "        for i in range(len(letters)):\n",
    "                print(letters[i][len(letters[i]): :-1])\n",
    "            \n",
    "        print(f'Process name: {self.name}, \\nrun time: {time() - startTime}')\n",
    "        print(\"-----------------\")\n",
    "        \n",
    "\n",
    "# Create object\n",
    "t1 = CreateProcess(\"Hello World!\")\n",
    "t1.start()\n",
    "t1.join()"
   ]
  },
  {
   "cell_type": "markdown",
   "metadata": {},
   "source": [
    "### Прерывания: программные, аппаратные от таймера\n",
    "Определение  Прерывание - это механизм передачи управления между коипоненнтами системы. \n",
    "             Прерывание - обработчик (handler) прерывания        "
   ]
  },
  {
   "cell_type": "code",
   "execution_count": 3,
   "metadata": {},
   "outputs": [
    {
     "name": "stdout",
     "output_type": "stream",
     "text": [
      "olleh\n",
      "dlrow\n",
      "Main thread waiting...\n",
      "Main thread waiting...\n",
      "Main thread waiting...\n",
      "Main thread waiting...\n",
      "Main thread waiting...\n",
      "Main thread waiting...\n",
      "Interrupting main thread now\n",
      "Main interrupted! Exiting.\n"
     ]
    }
   ],
   "source": [
    "from time import sleep\n",
    "from threading import Thread\n",
    "from _thread import interrupt_main\n",
    "import sys\n",
    " \n",
    "# task executed in a new thread\n",
    "def task(string):\n",
    "    letters = string.split()\n",
    "    for i in range(len(letters)):\n",
    "            print(letters[i][len(letters[i]): :-1])\n",
    "            \n",
    "    sleep(3)\n",
    "    # interrupt the main thread\n",
    "    print('Interrupting main thread now')\n",
    "    interrupt_main()\n",
    " \n",
    "# start the new thread\n",
    "thread = Thread(target=task, args=(\"hello world\",))\n",
    "thread.start()\n",
    "# handle being interrupted\n",
    "try:\n",
    "    # wait around\n",
    "    while True:\n",
    "        print('Main thread waiting...')\n",
    "        sleep(0.5)\n",
    "except KeyboardInterrupt:   # ctrl + C\n",
    "    # terminate main thread\n",
    "    print('Main interrupted! Exiting.')"
   ]
  },
  {
   "cell_type": "code",
   "execution_count": null,
   "metadata": {},
   "outputs": [],
   "source": [
    "# 2 Обработчик прерывания interrupting the main thread: handle with signal handler\n",
    "from time import sleep\n",
    "from threading import Thread\n",
    "from _thread import interrupt_main\n",
    "from signal import signal\n",
    "from signal import SIGINT\n",
    "import sys\n",
    " \n",
    "# handle single\n",
    "def handle_sigint(signalnum, frame):\n",
    "    # terminate\n",
    "    print('Main interrupted! Exiting.')\n",
    "    #sys.exit()  #!!!!!!!!!!!!\n",
    " \n",
    "# task executed in a new thread\n",
    "def task(string):\n",
    "    letters = string.split()\n",
    "    for i in range(len(letters)):\n",
    "            print(letters[i][len(letters[i]): :-1])\n",
    "            \n",
    "    sleep(3)\n",
    "    # interrupt the main thread\n",
    "    print('Interrupting main thread now')\n",
    "    interrupt_main()\n",
    " \n",
    "# register the signal handler for this process\n",
    "signal(SIGINT, handle_sigint)\n",
    "# start the new thread\n",
    "thread = Thread(target=task, args=(\"hello world\",))\n",
    "thread.start()\n",
    "# wait around\n",
    "while True:\n",
    "    print('Main thread waiting...')\n",
    "    sleep(0.5)\n"
   ]
  },
  {
   "cell_type": "code",
   "execution_count": 2,
   "metadata": {},
   "outputs": [
    {
     "name": "stdout",
     "output_type": "stream",
     "text": [
      "olleh\n",
      "dlrow\n",
      "Main thread ожидает (waiting)...\n",
      "Interrupting main thread сейчас\n",
      "Main thread прервана.\n"
     ]
    }
   ],
   "source": [
    "# 3 interrupting the main thread: из другй thread\n",
    "\n",
    "# пример delay (отложенного прерывания main thread)\n",
    "# main thread не может быть прервана пока спит (sleeping)\n",
    "from time import sleep\n",
    "from threading import Thread\n",
    "from _thread import interrupt_main\n",
    "import sys\n",
    " \n",
    "# task executed in a new thread\n",
    "def task(string):\n",
    "    letters = string.split()\n",
    "    for i in range(len(letters)):\n",
    "            print(letters[i][len(letters[i]): :-1])\n",
    "            \n",
    "    sleep(3)\n",
    "    # interrupt the main thread\n",
    "    print('Interrupting main thread сейчас')\n",
    "    interrupt_main()\n",
    " \n",
    "# start the new thread\n",
    "thread = Thread(target=task, args=(\"hello world\",))\n",
    "thread.start()\n",
    "# handle being interrupted\n",
    "try:\n",
    "    # block for a long time\n",
    "    print('Main thread ожидает (waiting)...')\n",
    "    sleep(7)\n",
    "except KeyboardInterrupt:\n",
    "    # terminate main thread\n",
    "    print('Main thread прервана.') # Cntrl + C\n",
    "    #sys.exit()"
   ]
  }
 ],
 "metadata": {
  "kernelspec": {
   "display_name": "Python 3",
   "language": "python",
   "name": "python3"
  },
  "language_info": {
   "codemirror_mode": {
    "name": "ipython",
    "version": 3
   },
   "file_extension": ".py",
   "mimetype": "text/x-python",
   "name": "python",
   "nbconvert_exporter": "python",
   "pygments_lexer": "ipython3",
   "version": "3.9.6"
  },
  "orig_nbformat": 4,
  "vscode": {
   "interpreter": {
    "hash": "256290e5d779d098235c7da0da63243dc5a2d137c006ed76deee9b7ada065117"
   }
  }
 },
 "nbformat": 4,
 "nbformat_minor": 2
}
