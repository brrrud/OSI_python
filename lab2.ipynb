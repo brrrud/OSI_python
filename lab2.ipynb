{
 "cells": [
  {
   "attachments": {},
   "cell_type": "markdown",
   "metadata": {},
   "source": [
    "&emsp;\n",
    "## &emsp;&emsp;&emsp;&emsp;&emsp;&emsp;&emsp;&emsp;&emsp;&emsp;&ensp;&emsp;&emsp;&emsp;&emsp;**Лабораторная работа №2**"
   ]
  },
  {
   "attachments": {},
   "cell_type": "markdown",
   "metadata": {},
   "source": [
    "### 1. Постановка задачи\n",
    "\n",
    "* Написать скрипт, который проверяет принадлежность заданного числа интервалу между 5 и 18. Результат вывести в виде строки."
   ]
  },
  {
   "attachments": {},
   "cell_type": "markdown",
   "metadata": {},
   "source": [
    "### 2. Решение\n"
   ]
  },
  {
   "cell_type": "code",
   "execution_count": 2,
   "metadata": {},
   "outputs": [
    {
     "name": "stdout",
     "output_type": "stream",
     "text": [
      "Value is into interval\n"
     ]
    }
   ],
   "source": [
    "value = int(input(\"Enter a value: \"))\n",
    "if (value > 5 and value < 18):\n",
    "\tprint(\"Value is into interval\")\n",
    "else:\n",
    "\tprint(\"Value isn't into interval\")"
   ]
  },
  {
   "attachments": {},
   "cell_type": "markdown",
   "metadata": {},
   "source": [
    "### 3. Тестирование\n",
    "\n",
    "Запустим скрипт\n",
    "\n",
    "> Enter a value: 7\\\n",
    "> Value is into interval\n",
    "\n",
    "Запустим скрипт ещё раз\n",
    "> Enter a value: 0\\\n",
    "> Value isn't into interval\n",
    "\n",
    "Результат: скрипт работает верно\n"
   ]
  },
  {
   "attachments": {},
   "cell_type": "markdown",
   "metadata": {},
   "source": [
    "### 4. Выводы\n",
    "Получены знания о написании программ на языке Python.\\\n",
    "Разработан скрипт, который корректно выполняет задачу."
   ]
  }
 ],
 "metadata": {
  "kernelspec": {
   "display_name": "Python 3",
   "language": "python",
   "name": "python3"
  },
  "language_info": {
   "codemirror_mode": {
    "name": "ipython",
    "version": 3
   },
   "file_extension": ".py",
   "mimetype": "text/x-python",
   "name": "python",
   "nbconvert_exporter": "python",
   "pygments_lexer": "ipython3",
   "version": "3.9.6"
  },
  "orig_nbformat": 4
 },
 "nbformat": 4,
 "nbformat_minor": 2
}
